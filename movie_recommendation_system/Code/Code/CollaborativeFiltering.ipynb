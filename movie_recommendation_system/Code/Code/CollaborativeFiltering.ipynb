{
 "cells": [
  {
   "cell_type": "markdown",
   "metadata": {},
   "source": [
    "# Import\n",
    "\n",
    "# Pre- req install surprise:\n",
    "# conda install -c  conda-forge scikit-surprise\n"
   ]
  },
  {
   "cell_type": "markdown",
   "metadata": {},
   "source": [
    "# USER - USER Collaborative Filtering"
   ]
  },
  {
   "cell_type": "markdown",
   "metadata": {},
   "source": [
    "## Libraries:"
   ]
  },
  {
   "cell_type": "code",
   "execution_count": 24,
   "metadata": {},
   "outputs": [],
   "source": [
    "import pandas as pd\n",
    "import numpy as np\n",
    "from sklearn.metrics.pairwise import cosine_similarity\n",
    "from sklearn.metrics import pairwise_distances\n",
    "from surprise import Reader, Dataset, SVD\n",
    "from surprise.model_selection import train_test_split, KFold\n",
    "from surprise import accuracy\n"
   ]
  },
  {
   "cell_type": "markdown",
   "metadata": {},
   "source": [
    "# Read Data"
   ]
  },
  {
   "cell_type": "code",
   "execution_count": 25,
   "metadata": {},
   "outputs": [],
   "source": [
    "def readData():\n",
    "    mov = pd.read_csv('C://Users//manis//Downloads//UML_Project//ml-latest-small//movies.csv',encoding=\"Latin1\")\n",
    "    rat = pd.read_csv('C://Users//manis//Downloads//UML_Project//ml-latest-small//ratings.csv')\n",
    "    mean = rat.groupby(by=\"userId\",as_index=False)['rating'].mean()\n",
    "    avg = pd.merge(rat,mean,on='userId')\n",
    "    avg['avg_rating']=avg['rating_x']-avg['rating_y']\n",
    "    \n",
    "    \n",
    "    return avg, mov, mean, rat\n"
   ]
  },
  {
   "cell_type": "markdown",
   "metadata": {},
   "source": [
    "# Pre-Process Data"
   ]
  },
  {
   "cell_type": "code",
   "execution_count": 26,
   "metadata": {},
   "outputs": [],
   "source": [
    "def preprocessData(avg, mov):\n",
    "    check = pd.pivot_table(avg,values='rating_x',index='userId',columns='movieId')\n",
    "    final=pd.pivot_table(avg,values='avg_rating',index='userId',columns='movieId')\n",
    "    movie = final.fillna(final.mean(axis=0))\n",
    "    user = final.apply(lambda row: row.fillna(row.mean()), axis=1)\n",
    "    cos = cosine_similarity(user)\n",
    "    np.fill_diagonal(cos, 0 )\n",
    "    usersim = pd.DataFrame(cos,index=user.index)\n",
    "    usersim.columns=user.index\n",
    "    cos = cosine_similarity(movie)\n",
    "    np.fill_diagonal(cos, 0 )\n",
    "    moviesim = pd.DataFrame(cos,index=movie.index)\n",
    "    moviesim.columns = user.index\n",
    "    \n",
    "    return usersim, moviesim, movie, user, check"
   ]
  },
  {
   "cell_type": "markdown",
   "metadata": {},
   "source": [
    "# Find Nearest Neighbour"
   ]
  },
  {
   "cell_type": "code",
   "execution_count": 27,
   "metadata": {},
   "outputs": [],
   "source": [
    "def findneighbour(data,n):\n",
    "    data = data.apply(lambda x: pd.Series(x.sort_values(ascending=False).iloc[:n].index, index=['top{}'.format(i) for i in range(1, n+1)]), axis=1)\n",
    "    return data"
   ]
  },
  {
   "cell_type": "markdown",
   "metadata": {},
   "source": [
    "# Find User User common movies"
   ]
  },
  {
   "cell_type": "code",
   "execution_count": 28,
   "metadata": {},
   "outputs": [],
   "source": [
    "def user_user( user1, user2,avg,mov ):\n",
    "    common_movies = avg[avg.userId == user1].merge(\n",
    "    avg[avg.userId == user2],\n",
    "    on = \"movieId\",\n",
    "    how = \"inner\" )\n",
    "    return common_movies.merge( mov, on = 'movieId' )"
   ]
  },
  {
   "cell_type": "code",
   "execution_count": 29,
   "metadata": {},
   "outputs": [],
   "source": [
    "def testUserUser(user1, user2):\n",
    "    avg,  mov, mean,rat  = readData()\n",
    "    usersim, moviesim, movie, user, check = preprocessData(avg, mov)\n",
    "    m = findneighbour(moviesim,50)\n",
    "    u = findneighbour(usersim,50)\n",
    "    data = []\n",
    "    a = user_user(user1,user2,avg,mov)\n",
    "    a = a.loc[ : , ['rating_x_x','rating_x_y','title']]\n",
    "    data.append(a['title'])\n",
    "    return data"
   ]
  },
  {
   "cell_type": "code",
   "execution_count": 7,
   "metadata": {},
   "outputs": [
    {
     "name": "stdout",
     "output_type": "stream",
     "text": [
      "Enter the user-id 1 to whom you want to recommend : 50\n",
      "Enter the user-id 2 to whom you want to recommend :85\n"
     ]
    },
    {
     "data": {
      "text/plain": [
       "[0    Mars Attacks! (1996)\n",
       " Name: title, dtype: object]"
      ]
     },
     "execution_count": 7,
     "metadata": {},
     "output_type": "execute_result"
    }
   ],
   "source": [
    "user1 = int(input(\"Enter the user-id 1 to whom you want to recommend : \"))\n",
    "user2 = int(input(\"Enter the user-id 2 to whom you want to recommend :\"))\n",
    "testUserUser(user1, user2)"
   ]
  },
  {
   "cell_type": "code",
   "execution_count": 30,
   "metadata": {},
   "outputs": [],
   "source": [
    "def user_item_item(user,check,m,movie, mean,moviesim,avg,mov, item):\n",
    "    avg = avg.astype({\"movieId\": str})\n",
    "    mov_user = avg.groupby(by = 'userId')['movieId'].apply(lambda x:','.join(x))\n",
    "    user_movies = [check.columns[check[check.index==user].notna().any()]]\n",
    "    \n",
    "    user_movies_20 = [user_movies[0][0:int(len(user_movies[0])*0.7)]]\n",
    "    mindex = (m[m.index==user].values).squeeze().tolist()\n",
    "    imovies = mov_user[mov_user.index.isin(mindex)]\n",
    "    stri = ','.join(imovies.values)\n",
    "    simusermovies = stri.split(',')\n",
    "    movieRecommend = list(set(simusermovies)-set(list(map(str, user_movies_20))))\n",
    "    movieRecommend = list(map(int, movieRecommend))\n",
    "    scores = []\n",
    "    noOfRecommendation = len(user_movies[0])\n",
    "    item = user_movies[0][0]\n",
    "    for item in movieRecommend:\n",
    "        moviess = ( movie.loc[:,item])[( movie.loc[:,item]).index.isin(mindex)]\n",
    "        notNullMov = moviess[moviess.notnull()]\n",
    "        index = notNullMov.index.values.squeeze().tolist()\n",
    "        corr = moviesim.loc[user,index]\n",
    "        co = pd.concat([notNullMov, corr], axis=1)\n",
    "        co.columns = ['avg_score','correlation']\n",
    "        co['score']=co.apply(lambda x:x['avg_score'] * x['correlation'],axis=1)\n",
    "        score = (mean.loc[mean['userId'] == user,'rating'].values[0]) + ((co['score'].sum())/co['correlation'].sum())\n",
    "        scores.append(score)\n",
    "    data = pd.DataFrame({'movieId':movieRecommend,'score':scores})\n",
    "    \n",
    "    userData = pd.DataFrame({'movieId':user_movies[0]})\n",
    "    tile =  userData.merge(mov, how='inner', on='movieId')\n",
    "    tiles = tile.title.tolist()\n",
    "\n",
    "    \n",
    "    \n",
    "    recommend = data.sort_values(by='score',ascending=False).head(noOfRecommendation)\n",
    "    name = recommend.merge(mov, how='inner', on='movieId')\n",
    "    names = name.title.tolist()\n",
    "    genre = name.genres.tolist()\n",
    "    return names, genre,user_movies,tiles"
   ]
  },
  {
   "cell_type": "code",
   "execution_count": 11,
   "metadata": {},
   "outputs": [],
   "source": [
    "def user_item_movieRecommend():\n",
    "    avg,  mov, mean,rat  = readData()\n",
    "    usersim, moviesim, movie, user, check = preprocessData(avg, mov)\n",
    "    m = findneighbour(moviesim,50)\n",
    "    u = findneighbour(usersim,50)\n",
    "    \n",
    "    user = int(input(\"Enter the user-id 1 to whom you want to recommend : \"))\n",
    "\n",
    "    predicted_movies, genre,user_movies,tiles = user_item_item(user,check,m,movie, mean,moviesim,avg,mov, 100)    \n",
    "    print(\" \")\n",
    "    print(\"Recommendation for User 85 using User-User Collaborative\")\n",
    "    print(\" \")\n",
    "    pred = [dict()]\n",
    "    for i in range(len(predicted_movies)):\n",
    "        print(predicted_movies[i])\n",
    "    \n",
    "#     print(user_movies)    \n",
    "    a = 0\n",
    "    for i in predicted_movies:\n",
    "        if i in tiles:\n",
    "            a += 1\n",
    "    print(\"Precision at 100: \",  a*100/len(tiles))"
   ]
  },
  {
   "cell_type": "code",
   "execution_count": 12,
   "metadata": {},
   "outputs": [
    {
     "name": "stdout",
     "output_type": "stream",
     "text": [
      "Enter the user-id 1 to whom you want to recommend : 85\n",
      " \n",
      "Recommendation for User 85 using User-User Collaborative\n",
      " \n",
      "Three Billboards Outside Ebbing, Missouri (2017)\n",
      "Return of Martin Guerre, The (Retour de Martin Guerre, Le) (1982)\n",
      "Streetcar Named Desire, A (1951)\n",
      "Wristcutters: A Love Story (2006)\n",
      "Tekkonkinkreet (Tekkon kinkurÃ®to) (2006)\n",
      "Ghost in the Shell (KÃ´kaku kidÃ´tai) (1995)\n",
      "Dr. Strangelove or: How I Learned to Stop Worrying and Love the Bomb (1964)\n",
      "Hoop Dreams (1994)\n",
      "Perfect Blue (1997)\n",
      "Shawshank Redemption, The (1994)\n",
      "Crumb (1994)\n",
      "Sunset Blvd. (a.k.a. Sunset Boulevard) (1950)\n",
      "Harold and Maude (1971)\n",
      "Planet Earth (2006)\n",
      "Evil Dead II (Dead by Dawn) (1987)\n",
      "Apocalypse Now (1979)\n",
      "Boogie Nights (1997)\n",
      "Usual Suspects, The (1995)\n",
      "Princess Bride, The (1987)\n",
      "Monty Python and the Holy Grail (1975)\n",
      "Goodfellas (1990)\n",
      "Casablanca (1942)\n",
      "Godfather, The (1972)\n",
      "Mean Streets (1973)\n",
      "Brazil (1985)\n",
      "Seven Samurai (Shichinin no samurai) (1954)\n",
      "Star Wars: Episode IV - A New Hope (1977)\n",
      "Godfather: Part II, The (1974)\n",
      "Wallace & Gromit: The Wrong Trousers (1993)\n",
      "Fight Club (1999)\n",
      "Glory (1989)\n",
      "Reservoir Dogs (1992)\n",
      "Schindler's List (1993)\n",
      "Star Wars: Episode V - The Empire Strikes Back (1980)\n",
      "Precision at 100:  2.9411764705882355\n"
     ]
    }
   ],
   "source": [
    "user_item_movieRecommend()"
   ]
  },
  {
   "cell_type": "code",
   "execution_count": null,
   "metadata": {},
   "outputs": [],
   "source": []
  },
  {
   "cell_type": "markdown",
   "metadata": {},
   "source": [
    "# Item - Item"
   ]
  },
  {
   "cell_type": "code",
   "execution_count": 31,
   "metadata": {},
   "outputs": [],
   "source": [
    "def item_item(user1):\n",
    "    avg,  mov, mean,rat  = readData()\n",
    "    ratings = pd.merge(mov, rat)\n",
    "    user = ratings.pivot_table(index=['userId'],columns=['title'],values='rating')\n",
    "    corr = user.corr()\n",
    "    RatingsUser = user.loc[user1].dropna()\n",
    "    print(RatingsUser)\n",
    "    simUser = pd.Series()\n",
    "    for i in range(0, len(RatingsUser.index)):\n",
    "        simMovies = (corr[RatingsUser.index[i]].dropna()).map(lambda x: x * RatingsUser[i])\n",
    "        simUser = simUser.append(simMovies)\n",
    "    simUser.sort_values(inplace = True, ascending = False)\n",
    "    data = simUser.head(len(RatingsUser))\n",
    "    \n",
    "    a = 0\n",
    "    for i in RatingsUser:\n",
    "        if i in data:\n",
    "            a += 1\n",
    "        print(\"Precision at 100: \",  a*100/len(data))\n",
    "\n",
    "    return data"
   ]
  },
  {
   "cell_type": "code",
   "execution_count": 32,
   "metadata": {},
   "outputs": [
    {
     "name": "stdout",
     "output_type": "stream",
     "text": [
      "Enter the user id to whom you want to recommend : 85\n",
      "title\n",
      "Amistad (1997)                                        4.0\n",
      "Apostle, The (1997)                                   4.0\n",
      "Bent (1997)                                           2.0\n",
      "Broken English (1996)                                 1.0\n",
      "Career Girls (1997)                                   4.0\n",
      "Contact (1997)                                        3.0\n",
      "English Patient, The (1996)                           4.0\n",
      "Entertaining Angels: The Dorothy Day Story (1996)     5.0\n",
      "Full Monty, The (1997)                                5.0\n",
      "Good Will Hunting (1997)                              3.0\n",
      "Ice Storm, The (1997)                                 4.0\n",
      "Kolya (Kolja) (1996)                                  4.0\n",
      "Kundun (1997)                                         4.0\n",
      "Lamerica (1994)                                       5.0\n",
      "Mars Attacks! (1996)                                  1.0\n",
      "Midnight in the Garden of Good and Evil (1997)        2.0\n",
      "Mother (1996)                                         2.0\n",
      "Mrs. Brown (a.k.a. Her Majesty, Mrs. Brown) (1997)    5.0\n",
      "My Left Foot (1989)                                   5.0\n",
      "Remains of the Day, The (1993)                        4.0\n",
      "Schindler's List (1993)                               5.0\n",
      "Secret of Roan Inish, The (1994)                      5.0\n",
      "Seventh Seal, The (Sjunde inseglet, Det) (1957)       5.0\n",
      "Shine (1996)                                          5.0\n",
      "Six Degrees of Separation (1993)                      4.0\n",
      "Sling Blade (1996)                                    1.0\n",
      "Smilla's Sense of Snow (1997)                         3.0\n",
      "Sweet Hereafter, The (1997)                           5.0\n",
      "Thousand Acres, A (1997)                              1.0\n",
      "To Kill a Mockingbird (1962)                          5.0\n",
      "Ulee's Gold (1997)                                    5.0\n",
      "Wag the Dog (1997)                                    4.0\n",
      "Waiting for Guffman (1996)                            4.0\n",
      "Wings of the Dove, The (1997)                         3.0\n",
      "Name: 85, dtype: float64\n",
      "Precision at 100: 0.1674 \n"
     ]
    }
   ],
   "source": [
    "user1 = int(input(\"Enter the user id to whom you want to recommend : \"))\n",
    "data = item_item(user1)\n"
   ]
  },
  {
   "cell_type": "code",
   "execution_count": null,
   "metadata": {},
   "outputs": [],
   "source": []
  },
  {
   "cell_type": "code",
   "execution_count": null,
   "metadata": {},
   "outputs": [],
   "source": []
  },
  {
   "cell_type": "code",
   "execution_count": null,
   "metadata": {},
   "outputs": [],
   "source": []
  },
  {
   "cell_type": "code",
   "execution_count": null,
   "metadata": {},
   "outputs": [],
   "source": [
    "    "
   ]
  },
  {
   "cell_type": "code",
   "execution_count": null,
   "metadata": {},
   "outputs": [],
   "source": []
  },
  {
   "cell_type": "code",
   "execution_count": null,
   "metadata": {},
   "outputs": [],
   "source": []
  },
  {
   "cell_type": "code",
   "execution_count": null,
   "metadata": {},
   "outputs": [],
   "source": []
  },
  {
   "cell_type": "code",
   "execution_count": null,
   "metadata": {},
   "outputs": [],
   "source": []
  },
  {
   "cell_type": "code",
   "execution_count": null,
   "metadata": {},
   "outputs": [],
   "source": [
    "user_user"
   ]
  },
  {
   "cell_type": "code",
   "execution_count": null,
   "metadata": {},
   "outputs": [],
   "source": []
  }
 ],
 "metadata": {
  "kernelspec": {
   "display_name": "Python 3",
   "language": "python",
   "name": "python3"
  },
  "language_info": {
   "codemirror_mode": {
    "name": "ipython",
    "version": 3
   },
   "file_extension": ".py",
   "mimetype": "text/x-python",
   "name": "python",
   "nbconvert_exporter": "python",
   "pygments_lexer": "ipython3",
   "version": "3.7.3"
  }
 },
 "nbformat": 4,
 "nbformat_minor": 2
}
